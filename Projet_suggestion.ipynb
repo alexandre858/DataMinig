{
  "nbformat": 4,
  "nbformat_minor": 0,
  "metadata": {
    "colab": {
      "name": "Projet_suggestion.ipynb",
      "provenance": [],
      "collapsed_sections": [],
      "authorship_tag": "ABX9TyN341RIdFCqvOVhJzhXm5TB",
      "include_colab_link": true
    },
    "kernelspec": {
      "name": "python3",
      "display_name": "Python 3"
    },
    "language_info": {
      "name": "python"
    }
  },
  "cells": [
    {
      "cell_type": "markdown",
      "metadata": {
        "id": "view-in-github",
        "colab_type": "text"
      },
      "source": [
        "<a href=\"https://colab.research.google.com/github/alexandre858/DataMinig/blob/main/Projet_suggestion.ipynb\" target=\"_parent\"><img src=\"https://colab.research.google.com/assets/colab-badge.svg\" alt=\"Open In Colab\"/></a>"
      ]
    },
    {
      "cell_type": "code",
      "execution_count": 8,
      "metadata": {
        "id": "D8JqTUk-wQ_w",
        "colab": {
          "base_uri": "https://localhost:8080/"
        },
        "outputId": "904a9b38-f872-4aea-d892-d6936f7a63c9"
      },
      "outputs": [
        {
          "output_type": "stream",
          "name": "stdout",
          "text": [
            "fichier déjà present\n",
            "articuno.png\n",
            "archeops.png\n",
            "audino.png\n"
          ]
        }
      ],
      "source": [
        "import os,sys\n",
        "from PIL import Image\n",
        "import json\n",
        "import pathlib\n",
        "import pandas\n",
        "\n",
        "\n",
        "\n",
        "\n",
        "\n",
        "try:\n",
        "   os.mkdir('data')\n",
        "except:\n",
        "    print('fichier déjà present')\n",
        "\n",
        "\n",
        "donnees={}\n",
        "\n",
        "\n",
        " \n",
        "path = '.'\n",
        " \n",
        "files = os.listdir(path+\"/images\")\n",
        "\n",
        "i=1\n",
        "for name in files:\n",
        "  print(name)\n",
        "  i=i+1\n",
        "  imgfile = Image.open(\"images/\"+name)\n",
        "  data = imgfile.getdata()\n",
        "  imgfile.size, imgfile.format\n",
        "\n",
        "  name_size=\"image_size_n°\"+str(i)\n",
        "  name_format=\"image_format_n°\"+str(i)\n",
        "  donnees[i-1]={name_size:imgfile.size,name_format:imgfile.format}\n",
        "\n",
        "\n",
        "\n",
        "with open(\"data/data.json\", \"w\") as file:\n",
        "    json.dump(donnees, file,indent = 6)\n",
        "\n",
        "\n",
        "#dataframe = pd.DataFrame(array,\n",
        "#      columns=['year', 'languageLabel', 'paradigmLabel']) \n",
        "#dataframe = dataframe.astype(dtype= {\"year\" : \"int64\",\n",
        "#      \"languageLabel\" : \"<U200\", \"paradigmLabel\" : \"<U200\"})\n",
        "\n",
        "#grouped = dataframe.groupby(['year',\n",
        "#       'paradigmLabel']).agg(['count'])\n",
        "#print(grouped)\n",
        "\n",
        "\n",
        "\n"
      ]
    },
    {
      "cell_type": "code",
      "source": [
        "donnees\n",
        "for i in donnees:\n",
        "  print(str(donnees[i])+\"\\n\")"
      ],
      "metadata": {
        "colab": {
          "base_uri": "https://localhost:8080/"
        },
        "id": "DZ8Q__By_SGL",
        "outputId": "02a8ee29-e704-44cb-a8b1-eb3fdcb0ad78"
      },
      "execution_count": null,
      "outputs": [
        {
          "output_type": "stream",
          "name": "stdout",
          "text": [
            "{'image_size_n°0': (120, 120), 'image_format0': 'PNG\\\\n\\\\n'}\n",
            "\n",
            "{'image_size_n°1': (120, 120), 'image_format1': 'PNG\\\\n\\\\n'}\n",
            "\n",
            "{'image_size_n°2': (120, 120), 'image_format2': 'PNG\\\\n\\\\n'}\n",
            "\n",
            "{'image_size_n°3': (120, 120), 'image_format3': 'PNG\\\\n\\\\n'}\n",
            "\n"
          ]
        }
      ]
    }
  ]
}