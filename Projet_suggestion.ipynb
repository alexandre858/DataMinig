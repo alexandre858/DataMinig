{
  "nbformat": 4,
  "nbformat_minor": 0,
  "metadata": {
    "colab": {
      "name": "Projet_suggestion.ipynb",
      "provenance": [],
      "collapsed_sections": [],
      "authorship_tag": "ABX9TyPMtAiABAyQP0wu0CVvBQfO",
      "include_colab_link": true
    },
    "kernelspec": {
      "name": "python3",
      "display_name": "Python 3"
    },
    "language_info": {
      "name": "python"
    }
  },
  "cells": [
    {
      "cell_type": "markdown",
      "metadata": {
        "id": "view-in-github",
        "colab_type": "text"
      },
      "source": [
        "<a href=\"https://colab.research.google.com/github/alexandre858/DataMinig/blob/main/Projet_suggestion.ipynb\" target=\"_parent\"><img src=\"https://colab.research.google.com/assets/colab-badge.svg\" alt=\"Open In Colab\"/></a>"
      ]
    },
    {
      "cell_type": "code",
      "execution_count": 13,
      "metadata": {
        "id": "D8JqTUk-wQ_w",
        "colab": {
          "base_uri": "https://localhost:8080/"
        },
        "outputId": "8fbbc4f4-6850-44ec-ae56-1ea44f9c8f84"
      },
      "outputs": [
        {
          "output_type": "stream",
          "name": "stdout",
          "text": [
            "articuno.png\n",
            "archeops.png\n",
            "audino.png\n"
          ]
        }
      ],
      "source": [
        "import os,sys\n",
        "from PIL import Image\n",
        "import json\n",
        "import pathlib\n",
        "import pandas\n",
        "\n",
        "\n",
        "try:\n",
        "   os.mkdir('data')\n",
        "except:\n",
        "    pass\n",
        "\n",
        "\n",
        "donnees={}\n",
        "\n",
        "\n",
        " \n",
        "path = '.'\n",
        " \n",
        "files = os.listdir(path+\"/images\")\n",
        "\n",
        "i=1\n",
        "for name in files:\n",
        "  print(name)\n",
        "  i=i+1\n",
        "  imgfile = Image.open(\"images/\"+name)\n",
        "  data = imgfile.getdata()\n",
        "  imgfile.size, imgfile.format\n",
        "\n",
        "  \n",
        "  name_size=\"image_size_n°\"+str(i)\n",
        "  name_format=\"image_format_n°\"+str(i)\n",
        "\n",
        "\n",
        "\n",
        "\n",
        "  \n",
        "  donnees[i-1]={\"name\":name,name_size:imgfile.size,name_format:imgfile.format,}\n",
        "\n",
        "\n",
        "\n",
        "with open(\"data/data.json\", \"w\") as file:\n",
        "    json.dump(donnees, file,indent = 6)\n",
        "\n",
        "\n",
        "#dataframe = pd.DataFrame(array,\n",
        "#      columns=['year', 'languageLabel', 'paradigmLabel']) \n",
        "#dataframe = dataframe.astype(dtype= {\"year\" : \"int64\",\n",
        "#      \"languageLabel\" : \"<U200\", \"paradigmLabel\" : \"<U200\"})\n",
        "\n",
        "#grouped = dataframe.groupby(['year',\n",
        "#       'paradigmLabel']).agg(['count'])\n",
        "#print(grouped)\n",
        "\n",
        "\n",
        "\n"
      ]
    },
    {
      "cell_type": "code",
      "source": [
        "from PIL import Image\n",
        "import matplotlib.pyplot as plot\n",
        "imgfile = Image.open(\"./images/archeops.png\")\n",
        "\n",
        "\n",
        "histogram = imgfile.histogram()\n",
        "# we have three bands (for this image)\n",
        "red = histogram[0:255]\n",
        "green = histogram[256:511]\n",
        "blue = histogram[512:767]\n",
        "\n",
        "total_red=0\n",
        "total_blue=0\n",
        "total_green=0\n",
        "\n",
        "i=0\n",
        "while i <255:\n",
        "  total_red=total_red+red[i]*i\n",
        "  total_blue=total_blue+blue[i]*i\n",
        "  total_green=total_green+green[i]*i\n",
        "  i+=1\n",
        "\n",
        "\n",
        "print(total_red,total_blue,total_green)\n",
        "\n",
        "\n",
        "\n",
        "\n",
        "\n",
        " "
      ],
      "metadata": {
        "colab": {
          "base_uri": "https://localhost:8080/"
        },
        "id": "DZ8Q__By_SGL",
        "outputId": "cf54403a-e82b-4eb6-f7ba-d9a7137512fa"
      },
      "execution_count": 45,
      "outputs": [
        {
          "output_type": "stream",
          "name": "stdout",
          "text": [
            "334382 511705 574290\n"
          ]
        }
      ]
    },
    {
      "cell_type": "code",
      "source": [
        "from PIL import Image\n",
        "import numpy\n",
        "import math\n",
        "import matplotlib.pyplot as plot\n",
        "from sklearn.cluster import MiniBatchKMeans\n",
        "imgfile = Image.open(\"images/articuno.png\")\n",
        "numarray = numpy.array(imgfile.getdata(), numpy.uint8)\n",
        "X = []\n",
        "Y = []\n",
        "fig, axes = plot.subplots(nrows=1, ncols=1, figsize=(5,5))\n",
        "xaxis = 0\n",
        "yaxis = 0\n",
        "\n",
        "cluster_count = 4\n",
        "\n",
        "clusters = MiniBatchKMeans(n_clusters = 4)\n",
        "clusters.fit(numarray)\n",
        "\n",
        "npbins = numpy.arange(0, cluster_count + 1)\n",
        "histogram = numpy.histogram(clusters.labels_, bins=npbins)\n",
        "labels = numpy.unique(clusters.labels_)\n",
        "barlist = axes.bar(labels, histogram[0])\n",
        "print (histogram[0])\n",
        "print(clusters.cluster_centers_)\n",
        "for i in range(cluster_count):\n",
        "    barlist[i].set_color('#%02x%02x%02x' % (\n",
        "    math.ceil(clusters.cluster_centers_[i][0]),\n",
        "        math.ceil(clusters.cluster_centers_[i][1]), \n",
        "    math.ceil(clusters.cluster_centers_[i][2])))\n",
        "print(\"couleur dominante rgb :\" ,math.ceil(clusters.cluster_centers_[1][0]),math.ceil(clusters.cluster_centers_[1][1]) ,math.ceil(clusters.cluster_centers_[1][2] ) )"
      ],
      "metadata": {
        "colab": {
          "base_uri": "https://localhost:8080/",
          "height": 424
        },
        "id": "nE7SrklQ1_6q",
        "outputId": "b89f14b9-5e67-4c14-b9f9-c17d15ca1913"
      },
      "execution_count": 96,
      "outputs": [
        {
          "output_type": "stream",
          "name": "stdout",
          "text": [
            "[11592  1233   363  1212]\n",
            "[[  0.           0.           0.           0.        ]\n",
            " [158.00485021 203.92924394 234.92296719 253.11326676]\n",
            " [180.75875486 189.1381323  195.47178988  84.80155642]\n",
            " [ 80.34911597 128.33503147 158.29757267 248.14803716]]\n",
            "couleur dominante rgb : 159 204 235\n"
          ]
        },
        {
          "output_type": "display_data",
          "data": {
            "text/plain": [
              "<Figure size 360x360 with 1 Axes>"
            ],
            "image/png": "[encoded data removed]"
          },
          "metadata": {
            "needs_background": "light"
          }
        }
      ]
    },
    {
      "cell_type": "code",
      "source": [
        "from PIL import Image\n",
        "import numpy\n",
        "import math\n",
        "import matplotlib.pyplot as plot\n",
        "from sklearn.cluster import MiniBatchKMeans\n",
        "imgfile = Image.open(\"images/articuno.png\")\n",
        "numarray = numpy.array(imgfile.getdata(), numpy.uint8)\n",
        "X = []\n",
        "Y = []\n",
        "fig, axes = plot.subplots(nrows=1, ncols=1, figsize=(5,5))\n",
        "xaxis = 0\n",
        "yaxis = 0\n",
        "\n",
        "cluster_count = 4\n",
        "\n",
        "clusters = MiniBatchKMeans(n_clusters = 4)\n",
        "clusters.fit(numarray)\n",
        "\n",
        "npbins = numpy.arange(0, cluster_count + 1)\n",
        "histogram = numpy.histogram(clusters.labels_, bins=npbins)\n",
        "labels = numpy.unique(clusters.labels_)\n",
        "print(labels, histogram[0])\n",
        "print(axes[0, 0].bar(labels, histogram[0]))"
      ],
      "metadata": {
        "colab": {
          "base_uri": "https://localhost:8080/",
          "height": 355
        },
        "id": "MUvDFMwTF3vu",
        "outputId": "57f4a347-32c3-4218-bbf2-c92c3a261c06"
      },
      "execution_count": 84,
      "outputs": [
        {
          "output_type": "stream",
          "name": "stdout",
          "text": [
            "[0 1 2 3] [ 1341 11592  1101   366]\n",
            "<BarContainer object of 4 artists>\n"
          ]
        },
        {
          "output_type": "display_data",
          "data": {
            "text/plain": [
              "<Figure size 360x360 with 1 Axes>"
            ],
            "image/png": "[encoded data removed]"
          },
          "metadata": {
            "needs_background": "light"
          }
        }
      ]
    }
  ]
}