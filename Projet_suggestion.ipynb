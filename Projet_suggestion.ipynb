{
  "nbformat": 4,
  "nbformat_minor": 0,
  "metadata": {
    "colab": {
      "name": "Projet_suggestion.ipynb",
      "provenance": [],
      "collapsed_sections": [],
      "authorship_tag": "ABX9TyOqEZJ8eV4rfO45YSDqHk1d",
      "include_colab_link": true
    },
    "kernelspec": {
      "name": "python3",
      "display_name": "Python 3"
    },
    "language_info": {
      "name": "python"
    }
  },
  "cells": [
    {
      "cell_type": "markdown",
      "metadata": {
        "id": "view-in-github",
        "colab_type": "text"
      },
      "source": [
        "<a href=\"https://colab.research.google.com/github/alexandre858/DataMinig/blob/main/Projet_suggestion.ipynb\" target=\"_parent\"><img src=\"https://colab.research.google.com/assets/colab-badge.svg\" alt=\"Open In Colab\"/></a>"
      ]
    },
    {
      "cell_type": "code",
      "execution_count": 106,
      "metadata": {
        "id": "D8JqTUk-wQ_w",
        "outputId": "fe597603-bd90-45b9-ded0-8799cf159864",
        "colab": {
          "base_uri": "https://localhost:8080/",
          "height": 747
        }
      },
      "outputs": [
        {
          "output_type": "stream",
          "name": "stdout",
          "text": [
            "[9705 3538  248  371  538] (array([0]),)\n",
            "[   0 3538  248  371  538] (array([1]),)\n",
            "[  0   0 248 371 538] (array([4]),)\n",
            "couleur dominante rgb : 84 90 123\n",
            "couleur secondaire rgb : 219 118 58\n",
            "[12606   577   764   266   187] (array([0]),)\n",
            "[  0 577 764 266 187] (array([2]),)\n",
            "[  0 577   0 266 187] (array([1]),)\n",
            "couleur dominante rgb : 155 157 171\n",
            "couleur secondaire rgb : 91 94 104\n",
            "[11955  1208   547   457   233] (array([0]),)\n",
            "[   0 1208  547  457  233] (array([1]),)\n",
            "[  0   0 547 457 233] (array([2]),)\n",
            "couleur dominante rgb : 252 251 252\n",
            "couleur secondaire rgb : 176 212 173\n"
          ]
        },
        {
          "output_type": "error",
          "ename": "ValueError",
          "evalue": "ignored",
          "traceback": [
            "\u001b[0;31m---------------------------------------------------------------------------\u001b[0m",
            "\u001b[0;31mValueError\u001b[0m                                Traceback (most recent call last)",
            "\u001b[0;32m<ipython-input-106-b89ac5d51399>\u001b[0m in \u001b[0;36m<module>\u001b[0;34m()\u001b[0m\n\u001b[1;32m     37\u001b[0m \u001b[0;34m\u001b[0m\u001b[0m\n\u001b[1;32m     38\u001b[0m     \u001b[0mclusters\u001b[0m \u001b[0;34m=\u001b[0m \u001b[0mMiniBatchKMeans\u001b[0m\u001b[0;34m(\u001b[0m\u001b[0mn_clusters\u001b[0m \u001b[0;34m=\u001b[0m \u001b[0mcluster_count\u001b[0m\u001b[0;34m)\u001b[0m\u001b[0;34m\u001b[0m\u001b[0;34m\u001b[0m\u001b[0m\n\u001b[0;32m---> 39\u001b[0;31m     \u001b[0mclusters\u001b[0m\u001b[0;34m.\u001b[0m\u001b[0mfit\u001b[0m\u001b[0;34m(\u001b[0m\u001b[0mnumarray\u001b[0m\u001b[0;34m)\u001b[0m\u001b[0;34m\u001b[0m\u001b[0;34m\u001b[0m\u001b[0m\n\u001b[0m\u001b[1;32m     40\u001b[0m \u001b[0;34m\u001b[0m\u001b[0m\n\u001b[1;32m     41\u001b[0m     \u001b[0mnpbins\u001b[0m \u001b[0;34m=\u001b[0m \u001b[0mnumpy\u001b[0m\u001b[0;34m.\u001b[0m\u001b[0marange\u001b[0m\u001b[0;34m(\u001b[0m\u001b[0;36m0\u001b[0m\u001b[0;34m,\u001b[0m \u001b[0mcluster_count\u001b[0m \u001b[0;34m+\u001b[0m \u001b[0;36m1\u001b[0m\u001b[0;34m)\u001b[0m\u001b[0;34m\u001b[0m\u001b[0;34m\u001b[0m\u001b[0m\n",
            "\u001b[0;32m/usr/local/lib/python3.7/dist-packages/sklearn/cluster/_kmeans.py\u001b[0m in \u001b[0;36mfit\u001b[0;34m(self, X, y, sample_weight)\u001b[0m\n\u001b[1;32m   1897\u001b[0m             \u001b[0mdtype\u001b[0m\u001b[0;34m=\u001b[0m\u001b[0;34m[\u001b[0m\u001b[0mnp\u001b[0m\u001b[0;34m.\u001b[0m\u001b[0mfloat64\u001b[0m\u001b[0;34m,\u001b[0m \u001b[0mnp\u001b[0m\u001b[0;34m.\u001b[0m\u001b[0mfloat32\u001b[0m\u001b[0;34m]\u001b[0m\u001b[0;34m,\u001b[0m\u001b[0;34m\u001b[0m\u001b[0;34m\u001b[0m\u001b[0m\n\u001b[1;32m   1898\u001b[0m             \u001b[0morder\u001b[0m\u001b[0;34m=\u001b[0m\u001b[0;34m\"C\"\u001b[0m\u001b[0;34m,\u001b[0m\u001b[0;34m\u001b[0m\u001b[0;34m\u001b[0m\u001b[0m\n\u001b[0;32m-> 1899\u001b[0;31m             \u001b[0maccept_large_sparse\u001b[0m\u001b[0;34m=\u001b[0m\u001b[0;32mFalse\u001b[0m\u001b[0;34m,\u001b[0m\u001b[0;34m\u001b[0m\u001b[0;34m\u001b[0m\u001b[0m\n\u001b[0m\u001b[1;32m   1900\u001b[0m         )\n\u001b[1;32m   1901\u001b[0m \u001b[0;34m\u001b[0m\u001b[0m\n",
            "\u001b[0;32m/usr/local/lib/python3.7/dist-packages/sklearn/base.py\u001b[0m in \u001b[0;36m_validate_data\u001b[0;34m(self, X, y, reset, validate_separately, **check_params)\u001b[0m\n\u001b[1;32m    564\u001b[0m             \u001b[0;32mraise\u001b[0m \u001b[0mValueError\u001b[0m\u001b[0;34m(\u001b[0m\u001b[0;34m\"Validation should be done on X, y or both.\"\u001b[0m\u001b[0;34m)\u001b[0m\u001b[0;34m\u001b[0m\u001b[0;34m\u001b[0m\u001b[0m\n\u001b[1;32m    565\u001b[0m         \u001b[0;32melif\u001b[0m \u001b[0;32mnot\u001b[0m \u001b[0mno_val_X\u001b[0m \u001b[0;32mand\u001b[0m \u001b[0mno_val_y\u001b[0m\u001b[0;34m:\u001b[0m\u001b[0;34m\u001b[0m\u001b[0;34m\u001b[0m\u001b[0m\n\u001b[0;32m--> 566\u001b[0;31m             \u001b[0mX\u001b[0m \u001b[0;34m=\u001b[0m \u001b[0mcheck_array\u001b[0m\u001b[0;34m(\u001b[0m\u001b[0mX\u001b[0m\u001b[0;34m,\u001b[0m \u001b[0;34m**\u001b[0m\u001b[0mcheck_params\u001b[0m\u001b[0;34m)\u001b[0m\u001b[0;34m\u001b[0m\u001b[0;34m\u001b[0m\u001b[0m\n\u001b[0m\u001b[1;32m    567\u001b[0m             \u001b[0mout\u001b[0m \u001b[0;34m=\u001b[0m \u001b[0mX\u001b[0m\u001b[0;34m\u001b[0m\u001b[0;34m\u001b[0m\u001b[0m\n\u001b[1;32m    568\u001b[0m         \u001b[0;32melif\u001b[0m \u001b[0mno_val_X\u001b[0m \u001b[0;32mand\u001b[0m \u001b[0;32mnot\u001b[0m \u001b[0mno_val_y\u001b[0m\u001b[0;34m:\u001b[0m\u001b[0;34m\u001b[0m\u001b[0;34m\u001b[0m\u001b[0m\n",
            "\u001b[0;32m/usr/local/lib/python3.7/dist-packages/sklearn/utils/validation.py\u001b[0m in \u001b[0;36mcheck_array\u001b[0;34m(array, accept_sparse, accept_large_sparse, dtype, order, copy, force_all_finite, ensure_2d, allow_nd, ensure_min_samples, ensure_min_features, estimator)\u001b[0m\n\u001b[1;32m    771\u001b[0m                     \u001b[0;34m\"Reshape your data either using array.reshape(-1, 1) if \"\u001b[0m\u001b[0;34m\u001b[0m\u001b[0;34m\u001b[0m\u001b[0m\n\u001b[1;32m    772\u001b[0m                     \u001b[0;34m\"your data has a single feature or array.reshape(1, -1) \"\u001b[0m\u001b[0;34m\u001b[0m\u001b[0;34m\u001b[0m\u001b[0m\n\u001b[0;32m--> 773\u001b[0;31m                     \u001b[0;34m\"if it contains a single sample.\"\u001b[0m\u001b[0;34m.\u001b[0m\u001b[0mformat\u001b[0m\u001b[0;34m(\u001b[0m\u001b[0marray\u001b[0m\u001b[0;34m)\u001b[0m\u001b[0;34m\u001b[0m\u001b[0;34m\u001b[0m\u001b[0m\n\u001b[0m\u001b[1;32m    774\u001b[0m                 )\n\u001b[1;32m    775\u001b[0m \u001b[0;34m\u001b[0m\u001b[0m\n",
            "\u001b[0;31mValueError\u001b[0m: Expected 2D array, got 1D array instead:\narray=[0. 0. 0. ... 0. 0. 0.].\nReshape your data either using array.reshape(-1, 1) if your data has a single feature or array.reshape(1, -1) if it contains a single sample."
          ]
        }
      ],
      "source": [
        "#Partie 1 du programme \n",
        "import os,sys\n",
        "import json\n",
        "import pathlib\n",
        "import pandas\n",
        "from PIL import Image\n",
        "import matplotlib.pyplot as plot\n",
        "import numpy\n",
        "import math\n",
        "from sklearn.cluster import MiniBatchKMeans\n",
        "\n",
        "try:\n",
        "   os.mkdir('data')\n",
        "except:\n",
        "    pass\n",
        "\n",
        "\n",
        "donnees={}\n",
        "\n",
        "\n",
        " \n",
        "path = '.'\n",
        " \n",
        "files = os.listdir(path+\"/images_test\")\n",
        "\n",
        "i=1\n",
        "for name in files:\n",
        "  if os.path.isfile(\"images_test/\"+name):\n",
        "    \n",
        "    imgfile = Image.open(\"images_test/\"+name)\n",
        "\n",
        "    #algoritme qui détermine la couleur dominante d'une image\n",
        "    #---------------------------------------------------\n",
        "    numarray = numpy.array(imgfile.getdata(), numpy.uint8)\n",
        "\n",
        "    cluster_count = 5\n",
        "\n",
        "    clusters = MiniBatchKMeans(n_clusters = cluster_count)\n",
        "    clusters.fit(numarray)\n",
        "\n",
        "    npbins = numpy.arange(0, cluster_count + 1)\n",
        "    histogram = numpy.histogram(clusters.labels_, bins=npbins)\n",
        "\n",
        "\n",
        "\n",
        "\n",
        "    index_max=numpy.where(histogram[0]==max(histogram[0]))\n",
        "\n",
        "    print(histogram[0],index_max)\n",
        "\n",
        "    histogram[0][index_max]=0\n",
        "\n",
        "    index_max=numpy.where(histogram[0]==max(histogram[0]))\n",
        "\n",
        "\n",
        "    print(histogram[0],index_max)\n",
        "\n",
        "    histogram[0][index_max]=0\n",
        "\n",
        "    index_max_sec=numpy.where(histogram[0]==max(histogram[0]))\n",
        "\n",
        "    print(histogram[0],index_max_sec)\n",
        "\n",
        "\n",
        "    print(\"couleur dominante rgb :\" ,math.ceil(clusters.cluster_centers_[index_max[0][0]][0]),\n",
        "            math.ceil(clusters.cluster_centers_[index_max[0][0]][1]) ,\n",
        "              math.ceil(clusters.cluster_centers_[index_max[0][0]][2] ) )\n",
        "\n",
        "    print(\"couleur secondaire rgb :\" ,math.ceil(clusters.cluster_centers_[index_max_sec[0][0]][0]),\n",
        "            math.ceil(clusters.cluster_centers_[index_max_sec[0][0]][1]) ,\n",
        "              math.ceil(clusters.cluster_centers_[index_max_sec[0][0]][2] ) )\n",
        "\n",
        "    col_sec_r = math.ceil(clusters.cluster_centers_[index_max_sec[0][0]][0])\n",
        "    col_sec_g = math.ceil(clusters.cluster_centers_[index_max_sec[0][0]][1])\n",
        "    col_sec_b = math.ceil(clusters.cluster_centers_[index_max_sec[0][0]][2])\n",
        "\n",
        "    col_dom_r=math.ceil(clusters.cluster_centers_[index_max2[0][0]][0])\n",
        "    col_dom_g=math.ceil(clusters.cluster_centers_[index_max2[0][0]][1])\n",
        "    col_dom_b=math.ceil(clusters.cluster_centers_[index_max2[0][0]][2])\n",
        "    #---------------------------------------------------\n",
        "\n",
        "\n",
        "\n",
        "\n",
        " \n",
        "    #analyse taux de présence couleu\n",
        "    #---------------------------------------------------\n",
        "    histogram = imgfile.histogram()\n",
        "    if (len(histogram)==1024 or len(histogram)==768):\n",
        "\n",
        "      red = histogram[0:255]\n",
        "      green = histogram[256:511]\n",
        "      blue = histogram[512:767]\n",
        "\n",
        "      total_red=0\n",
        "      total_blue=0\n",
        "      total_green=0\n",
        "\n",
        "      j=0\n",
        "      while j <255:\n",
        "        total_red=total_red+red[j]*j\n",
        "        total_blue=total_blue+blue[j]*j\n",
        "        total_green=total_green+green[j]*j\n",
        "        j+=1\n",
        "\n",
        "    else:\n",
        "      total_red=\"mono\"\n",
        "      total_green=\"mono\"\n",
        "      total_blue =\"mono\"\n",
        "    #---------------------------------------------------\n",
        "\n",
        "\n",
        "    #récupération des données sur le format de l'image\n",
        "    #---------------------------------------------------\n",
        "    hauteur=imgfile.size[0]\n",
        "    largeur=imgfile.size[1]\n",
        "    format=imgfile.format\n",
        "    #---------------------------------------------------\n",
        "\n",
        "\n",
        "    donnees[i-1]={\"name\":name,\"size_high\":hauteur,\n",
        "                    \"size_lenght\":largeur,\"format\":format,\n",
        "                      \"red\":total_red,\"green\":total_green,\"blue\":total_blue}\n",
        "\n",
        "    i=i+1 \n",
        "\n",
        "with open(\"data/data.json\", \"w\") as file:\n",
        "    json.dump(donnees, file,indent = 3)\n",
        "\n",
        "\n",
        "\n",
        "\n",
        "\n",
        "\n"
      ]
    },
    {
      "cell_type": "code",
      "source": [
        ""
      ],
      "metadata": {
        "id": "0o_97M4jk4iz"
      },
      "execution_count": null,
      "outputs": []
    },
    {
      "cell_type": "code",
      "source": [
        "#test taux de presence\n",
        "from PIL import Image\n",
        "import matplotlib.pyplot as plot\n",
        "\n",
        "path = '.'\n",
        " \n",
        "files = os.listdir(path+\"/images_test\")\n",
        "\n",
        "i=1\n",
        "for name in files:\n",
        "  if os.path.isfile(\"images_test/\"+name):\n",
        "\n",
        "imgfile = Image.open(\"./images/archeops.png\")\n",
        "\n",
        "\n",
        "histogram = imgfile.histogram()\n",
        "# we have three bands (for this image)\n",
        "red = histogram[0:255]\n",
        "green = histogram[256:511]\n",
        "blue = histogram[512:767]\n",
        "\n",
        "total_red=0\n",
        "total_blue=0\n",
        "total_green=0\n",
        "\n",
        "i=0\n",
        "while i <255:\n",
        "  total_red=total_red+red[i]*i\n",
        "  total_blue=total_blue+blue[i]*i\n",
        "  total_green=total_green+green[i]*i\n",
        "  i+=1\n",
        "\n",
        "\n",
        "print(total_red,total_blue,total_green)\n",
        "\n",
        "\n",
        "\n",
        "\n",
        "\n",
        " "
      ],
      "metadata": {
        "colab": {
          "base_uri": "https://localhost:8080/"
        },
        "id": "DZ8Q__By_SGL",
        "outputId": "8260dcca-5d1f-4886-a814-8e1b7c7b94a6"
      },
      "execution_count": null,
      "outputs": [
        {
          "output_type": "stream",
          "name": "stdout",
          "text": [
            "334382 511705 574290\n"
          ]
        }
      ]
    },
    {
      "cell_type": "code",
      "source": [
        "#test kmeans\n",
        "\n",
        "from PIL import Image\n",
        "import numpy\n",
        "import math\n",
        "import matplotlib.pyplot as plot\n",
        "from sklearn.cluster import MiniBatchKMeans\n",
        "imgfile = Image.open(\"images/garchomp.png\")\n",
        "numarray = numpy.array(imgfile.getdata(), numpy.uint8)\n",
        "path = '.'\n",
        " \n",
        "files = os.listdir(path+\"/images_test\")\n",
        "\n",
        "i=1\n",
        "for name in files:\n",
        "  if os.path.isfile(\"images_test/\"+name):\n",
        "fig, axes = plot.subplots(nrows=1, ncols=1, figsize=(5,5))\n",
        "\n",
        "\n",
        "cluster_count = 6\n",
        "\n",
        "clusters = MiniBatchKMeans(n_clusters = cluster_count)\n",
        "clusters.fit(numarray)\n",
        "\n",
        "npbins = numpy.arange(0, cluster_count + 1)\n",
        "histogram = numpy.histogram(clusters.labels_, bins=npbins)\n",
        "labels = numpy.unique(clusters.labels_)\n",
        "barlist = axes.bar(labels, histogram[0])\n",
        "\n",
        "\n",
        "for i in range(cluster_count):\n",
        "    barlist[i].set_color('#%02x%02x%02x' % (\n",
        "    math.ceil(clusters.cluster_centers_[i][0]),\n",
        "        math.ceil(clusters.cluster_centers_[i][1]), \n",
        "    math.ceil(clusters.cluster_centers_[i][2])))\n",
        "\n",
        "\n",
        "\n",
        "\n",
        "\n",
        "\n",
        "index_max=numpy.where(histogram[0]==max(histogram[0]))\n",
        "\n",
        "print(histogram[0],index_max)\n",
        "\n",
        "histogram[0][index_max]=0\n",
        "\n",
        "index_max=numpy.where(histogram[0]==max(histogram[0]))\n",
        "\n",
        "\n",
        "print(histogram[0],index_max)\n",
        "\n",
        "histogram[0][index_max]=0\n",
        "\n",
        "index_max_sec=numpy.where(histogram[0]==max(histogram[0]))\n",
        "\n",
        "print(histogram[0],index_max_sec)\n",
        "\n",
        "\n",
        "print(\"couleur dominante rgb :\" ,math.ceil(clusters.cluster_centers_[index_max[0][0]][0]),\n",
        "        math.ceil(clusters.cluster_centers_[index_max[0][0]][1]) ,\n",
        "          math.ceil(clusters.cluster_centers_[index_max[0][0]][2] ) )\n",
        "\n",
        "print(\"couleur secondaire rgb :\" ,math.ceil(clusters.cluster_centers_[index_max_sec[0][0]][0]),\n",
        "        math.ceil(clusters.cluster_centers_[index_max_sec[0][0]][1]) ,\n",
        "          math.ceil(clusters.cluster_centers_[index_max_sec[0][0]][2] ) )\n",
        "\n",
        "\n"
      ],
      "metadata": {
        "colab": {
          "base_uri": "https://localhost:8080/",
          "height": 409
        },
        "id": "nE7SrklQ1_6q",
        "outputId": "7036702c-1844-4a61-d268-9274a21e1529"
      },
      "execution_count": 104,
      "outputs": [
        {
          "output_type": "stream",
          "name": "stdout",
          "text": [
            "[ 241 9705 2253  534  363 1304] (array([1]),)\n",
            "[ 241    0 2253  534  363 1304] (array([2]),)\n",
            "[ 241    0    0  534  363 1304] (array([5]),)\n",
            "couleur dominante rgb : 99 106 144\n",
            "couleur secondaire rgb : 56 58 84\n"
          ]
        },
        {
          "output_type": "display_data",
          "data": {
            "text/plain": [
              "<Figure size 360x360 with 1 Axes>"
            ],
            "image/png": "[encoded data removed]"
          },
          "metadata": {
            "needs_background": "light"
          }
        }
      ]
    }
  ]
}