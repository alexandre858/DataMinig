{
  "nbformat": 4,
  "nbformat_minor": 0,
  "metadata": {
    "colab": {
      "name": "Projet_suggestion.ipynb",
      "provenance": [],
      "collapsed_sections": [],
      "authorship_tag": "ABX9TyPuRUHXXDkTD74wtjLhCO8A",
      "include_colab_link": true
    },
    "kernelspec": {
      "name": "python3",
      "display_name": "Python 3"
    },
    "language_info": {
      "name": "python"
    }
  },
  "cells": [
    {
      "cell_type": "markdown",
      "metadata": {
        "id": "view-in-github",
        "colab_type": "text"
      },
      "source": [
        "<a href=\"https://colab.research.google.com/github/alexandre858/DataMinig/blob/main/Projet_suggestion.ipynb\" target=\"_parent\"><img src=\"https://colab.research.google.com/assets/colab-badge.svg\" alt=\"Open In Colab\"/></a>"
      ]
    },
    {
      "cell_type": "code",
      "execution_count": 35,
      "metadata": {
        "id": "D8JqTUk-wQ_w"
      },
      "outputs": [],
      "source": [
        "#Partie 1 du programme \n",
        "import os,sys\n",
        "import json\n",
        "import pathlib\n",
        "import pandas\n",
        "from PIL import Image\n",
        "import matplotlib.pyplot as plot\n",
        "import numpy\n",
        "import math\n",
        "from sklearn.cluster import MiniBatchKMeans\n",
        "\n",
        "try:\n",
        "   os.mkdir('data')\n",
        "except:\n",
        "    pass\n",
        "\n",
        "\n",
        "donnees={}\n",
        "\n",
        "\n",
        " \n",
        "path = '.'\n",
        " \n",
        "files = os.listdir(path+\"/images\")\n",
        "\n",
        "i=1\n",
        "for name in files:\n",
        "  if os.path.isfile(\"images/\"+name):\n",
        "    \n",
        "    imgfile = Image.open(\"images/\"+name)\n",
        "\n",
        "    #algoritme qui détermine la couleur dominante d'une image\n",
        "    #---------------------------------------------------\n",
        "    numarray = numpy.array(imgfile.getdata(), numpy.uint8)\n",
        "\n",
        "    cluster_count = 6\n",
        "\n",
        "    clusters = MiniBatchKMeans(n_clusters = cluster_count)\n",
        "    clusters.fit(numarray)\n",
        "\n",
        "    npbins = numpy.arange(0, cluster_count + 1)\n",
        "    histogram = numpy.histogram(clusters.labels_, bins=npbins)\n",
        "\n",
        "\n",
        "\n",
        "\n",
        "    data=numpy.where(histogram[0]==max(histogram[0]))\n",
        "\n",
        "    array=numpy.delete(histogram[0],data[0])\n",
        "\n",
        "    index=numpy.where(histogram[0]==max(array))\n",
        "\n",
        "    print (index[0][0])\n",
        "\n",
        "\n",
        "    print(\"couleur dominante rgb :\" ,math.ceil(clusters.cluster_centers_[index[0][0]][0]),\n",
        "            math.ceil(clusters.cluster_centers_[index[0][0]][1]) ,\n",
        "              math.ceil(clusters.cluster_centers_[index[0][0]][2] ) )\n",
        "\n",
        "    \n",
        "\n",
        "    #---------------------------------------------------\n",
        "\n",
        "\n",
        "\n",
        "\n",
        " \n",
        "    #analyse taux de présence couleu\n",
        "    #---------------------------------------------------\n",
        "    histogram = imgfile.histogram()\n",
        "    if (len(histogram)==1024 or len(histogram)==768):\n",
        "\n",
        "      red = histogram[0:255]\n",
        "      green = histogram[256:511]\n",
        "      blue = histogram[512:767]\n",
        "\n",
        "      total_red=0\n",
        "      total_blue=0\n",
        "      total_green=0\n",
        "\n",
        "      j=0\n",
        "      while j <255:\n",
        "        total_red=total_red+red[j]*j\n",
        "        total_blue=total_blue+blue[j]*j\n",
        "        total_green=total_green+green[j]*j\n",
        "        j+=1\n",
        "\n",
        "    else:\n",
        "      total_red=\"mono\"\n",
        "      total_green=\"mono\"\n",
        "      total_blue =\"mono\"\n",
        "    #---------------------------------------------------\n",
        "\n",
        "\n",
        "    #récupération des données sur le format de l'image\n",
        "    #---------------------------------------------------\n",
        "    hauteur=imgfile.size[0]\n",
        "    largeur=imgfile.size[1]\n",
        "    format=imgfile.format\n",
        "    #---------------------------------------------------\n",
        "\n",
        "\n",
        "    donnees[i-1]={\"name\":name,\"size_high\":hauteur,\n",
        "                    \"size_lenght\":largeur,\"format\":format,\n",
        "                      \"red\":total_red,\"green\":total_green,\"blue\":total_blue}\n",
        "\n",
        "    i=i+1 \n",
        "\n",
        "with open(\"data/data.json\", \"w\") as file:\n",
        "    json.dump(donnees, file,indent = 3)\n",
        "\n",
        "\n",
        "\n",
        "\n",
        "\n",
        "\n"
      ]
    },
    {
      "cell_type": "code",
      "source": [
        ""
      ],
      "metadata": {
        "id": "0o_97M4jk4iz"
      },
      "execution_count": null,
      "outputs": []
    },
    {
      "cell_type": "code",
      "source": [
        "#test taux de presence\n",
        "from PIL import Image\n",
        "import matplotlib.pyplot as plot\n",
        "imgfile = Image.open(\"./images/archeops.png\")\n",
        "\n",
        "\n",
        "histogram = imgfile.histogram()\n",
        "# we have three bands (for this image)\n",
        "red = histogram[0:255]\n",
        "green = histogram[256:511]\n",
        "blue = histogram[512:767]\n",
        "\n",
        "total_red=0\n",
        "total_blue=0\n",
        "total_green=0\n",
        "\n",
        "i=0\n",
        "while i <255:\n",
        "  total_red=total_red+red[i]*i\n",
        "  total_blue=total_blue+blue[i]*i\n",
        "  total_green=total_green+green[i]*i\n",
        "  i+=1\n",
        "\n",
        "\n",
        "print(total_red,total_blue,total_green)\n",
        "\n",
        "\n",
        "\n",
        "\n",
        "\n",
        " "
      ],
      "metadata": {
        "colab": {
          "base_uri": "https://localhost:8080/"
        },
        "id": "DZ8Q__By_SGL",
        "outputId": "8260dcca-5d1f-4886-a814-8e1b7c7b94a6"
      },
      "execution_count": null,
      "outputs": [
        {
          "output_type": "stream",
          "name": "stdout",
          "text": [
            "334382 511705 574290\n"
          ]
        }
      ]
    },
    {
      "cell_type": "code",
      "source": [
        "#test kmeans\n",
        "\n",
        "from PIL import Image\n",
        "import numpy\n",
        "import math\n",
        "import matplotlib.pyplot as plot\n",
        "from sklearn.cluster import MiniBatchKMeans\n",
        "imgfile = Image.open(\"images_total/articuno.png\")\n",
        "numarray = numpy.array(imgfile.getdata(), numpy.uint8)\n",
        "\n",
        "fig, axes = plot.subplots(nrows=1, ncols=1, figsize=(5,5))\n",
        "\n",
        "\n",
        "cluster_count = 6\n",
        "\n",
        "clusters = MiniBatchKMeans(n_clusters = cluster_count)\n",
        "clusters.fit(numarray)\n",
        "\n",
        "npbins = numpy.arange(0, cluster_count + 1)\n",
        "histogram = numpy.histogram(clusters.labels_, bins=npbins)\n",
        "labels = numpy.unique(clusters.labels_)\n",
        "barlist = axes.bar(labels, histogram[0])\n",
        "print (histogram[0])\n",
        "print(clusters.cluster_centers_)\n",
        "for i in range(cluster_count):\n",
        "    barlist[i].set_color('#%02x%02x%02x' % (\n",
        "    math.ceil(clusters.cluster_centers_[i][0]),\n",
        "        math.ceil(clusters.cluster_centers_[i][1]), \n",
        "    math.ceil(clusters.cluster_centers_[i][2])))\n",
        "\n",
        "print (histogram[0])\n",
        "data=numpy.where(histogram[0]==max(histogram[0]))\n",
        "\n",
        "array=numpy.delete(histogram[0],data[0])\n",
        "\n",
        "index=numpy.where(histogram[0]==max(array))\n",
        "\n",
        "array=numpy.delete(histogram[0],data[0])\n",
        "print (index[0][0])\n",
        "\n",
        "\n",
        "print(\"couleur dominante rgb :\" ,math.ceil(clusters.cluster_centers_[index[0][0]][0]),\n",
        "        math.ceil(clusters.cluster_centers_[index[0][0]][1]) ,\n",
        "          math.ceil(clusters.cluster_centers_[index[0][0]][2] ) )\n",
        "\n",
        "\n",
        "\n",
        "\n"
      ],
      "metadata": {
        "colab": {
          "base_uri": "https://localhost:8080/",
          "height": 499
        },
        "id": "nE7SrklQ1_6q",
        "outputId": "68ecadef-1fd4-4632-cff9-90cd26495da4"
      },
      "execution_count": 41,
      "outputs": [
        {
          "output_type": "stream",
          "name": "stdout",
          "text": [
            "[11592  1037   366   335   411   659]\n",
            "[[  0.           0.           0.           0.        ]\n",
            " [118.71255438 177.38222498 220.83219391 252.16842759]\n",
            " [178.80396246 188.38164755 196.65067779  86.4181439 ]\n",
            " [ 71.38590957  90.76130389 105.47844374 248.08201893]\n",
            " [227.48756661 242.44849023 243.05150977 254.69804618]\n",
            " [ 73.55867014 133.21056063 168.00912647 247.2535854 ]]\n",
            "[11592  1037   366   335   411   659]\n",
            "1\n",
            "couleur dominante rgb : 119 178 221\n"
          ]
        },
        {
          "output_type": "display_data",
          "data": {
            "text/plain": [
              "<Figure size 360x360 with 1 Axes>"
            ],
            "image/png": "[encoded data removed]"
          },
          "metadata": {
            "needs_background": "light"
          }
        }
      ]
    }
  ]
}