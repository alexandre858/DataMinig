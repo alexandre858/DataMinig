{
  "nbformat": 4,
  "nbformat_minor": 0,
  "metadata": {
    "colab": {
      "name": "Untitled4.ipynb",
      "provenance": [],
      "collapsed_sections": [],
      "authorship_tag": "ABX9TyPPZCVF64PUehEm1VVu6Kx1",
      "include_colab_link": true
    },
    "kernelspec": {
      "name": "python3",
      "display_name": "Python 3"
    },
    "language_info": {
      "name": "python"
    }
  },
  "cells": [
    {
      "cell_type": "markdown",
      "metadata": {
        "id": "view-in-github",
        "colab_type": "text"
      },
      "source": [
        "<a href=\"https://colab.research.google.com/github/alexandre858/DataMinig/blob/main/Untitled4.ipynb\" target=\"_parent\"><img src=\"https://colab.research.google.com/assets/colab-badge.svg\" alt=\"Open In Colab\"/></a>"
      ]
    },
    {
      "cell_type": "code",
      "execution_count": 37,
      "metadata": {
        "id": "D8JqTUk-wQ_w",
        "colab": {
          "base_uri": "https://localhost:8080/"
        },
        "outputId": "949d3634-2555-42e8-df9b-90070bb25e6e"
      },
      "outputs": [
        {
          "output_type": "stream",
          "name": "stdout",
          "text": [
            "26\n",
            "fichier déjà present\n",
            "image_size_n°0\n",
            "image_size_n°1\n",
            "image_size_n°2\n",
            "image_size_n°3\n",
            "image_size_n°4\n",
            "image_size_n°5\n",
            "image_size_n°6\n",
            "image_size_n°7\n",
            "image_size_n°8\n",
            "image_size_n°9\n",
            "image_size_n°10\n",
            "image_size_n°11\n",
            "image_size_n°12\n",
            "image_size_n°13\n",
            "image_size_n°14\n",
            "image_size_n°15\n",
            "image_size_n°16\n",
            "image_size_n°17\n",
            "image_size_n°18\n",
            "image_size_n°19\n",
            "image_size_n°20\n",
            "image_size_n°21\n",
            "image_size_n°22\n",
            "image_size_n°23\n",
            "image_size_n°24\n",
            "image_size_n°25\n"
          ]
        }
      ],
      "source": [
        "import os,sys\n",
        "from PIL import Image\n",
        "import json\n",
        "import pathlib\n",
        "\n",
        "initial_count = 0\n",
        "for path in pathlib.Path(\".\"+\"/images\").iterdir():\n",
        "    if path.is_file():\n",
        "        initial_count += 1\n",
        "\n",
        "print(initial_count)\n",
        "\n",
        "try:\n",
        "   os.mkdir('data')\n",
        "except:\n",
        "    print('fichier déjà present')\n",
        "\n",
        "\n",
        "donnees={}\n",
        "\n",
        "for i in range(0,initial_count):\n",
        "  imgfile = Image.open(\"images/abomasnow.png\")\n",
        "  data = imgfile.getdata()\n",
        "  imgfile.size, imgfile.format\n",
        "  name_size=\"image_size_n°\"+str(i)\n",
        "  print (name_size)\n",
        "  name_format=\"image_format_n°\"+str(i)\n",
        "  donnees[i]={name_size:imgfile.size,name_format:imgfile.format}\n",
        "\n",
        "\n",
        "\n",
        "with open(\"data/data.json\", \"w\") as file:\n",
        "    json.dump(donnees, file,indent = 6)\n",
        "\n",
        "\n",
        "\n",
        "\n",
        "\n"
      ]
    },
    {
      "cell_type": "code",
      "source": [
        "donnees\n",
        "for i in donnees:\n",
        "  print(str(donnees[i])+\"\\n\")"
      ],
      "metadata": {
        "colab": {
          "base_uri": "https://localhost:8080/"
        },
        "id": "DZ8Q__By_SGL",
        "outputId": "02a8ee29-e704-44cb-a8b1-eb3fdcb0ad78"
      },
      "execution_count": 25,
      "outputs": [
        {
          "output_type": "stream",
          "name": "stdout",
          "text": [
            "{'image_size_n°0': (120, 120), 'image_format0': 'PNG\\\\n\\\\n'}\n",
            "\n",
            "{'image_size_n°1': (120, 120), 'image_format1': 'PNG\\\\n\\\\n'}\n",
            "\n",
            "{'image_size_n°2': (120, 120), 'image_format2': 'PNG\\\\n\\\\n'}\n",
            "\n",
            "{'image_size_n°3': (120, 120), 'image_format3': 'PNG\\\\n\\\\n'}\n",
            "\n"
          ]
        }
      ]
    }
  ]
}